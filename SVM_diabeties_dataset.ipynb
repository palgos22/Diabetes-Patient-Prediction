{
 "cells": [
  {
   "cell_type": "markdown",
   "metadata": {},
   "source": [
    "\n",
    "# Diabetes Prediction Using Machine Learning in Python"
   ]
  },
  {
   "cell_type": "markdown",
   "metadata": {},
   "source": [
    "# Problem Statement"
   ]
  },
  {
   "cell_type": "code",
   "execution_count": null,
   "metadata": {},
   "outputs": [],
   "source": [
    "This is a classification problem of supervised machine learning. \n",
    "The objective is to predict whether or not a patient has diabetes, based on \n",
    "certain diagnostic measurements included in the dataset.\n",
    "\n",
    "0 – Absence of Diabetes\n",
    "\n",
    "1 – Presence of Diabetes"
   ]
  },
  {
   "cell_type": "code",
   "execution_count": 2,
   "metadata": {},
   "outputs": [],
   "source": [
    "# Import Basic Libraries:\n",
    "import pandas as pd\n",
    "import numpy as np\n",
    "import matplotlib.pyplot as plt\n",
    "import seaborn as sns\n",
    "import warnings \n",
    "warnings.filterwarnings('ignore')"
   ]
  },
  {
   "cell_type": "code",
   "execution_count": 3,
   "metadata": {},
   "outputs": [],
   "source": [
    "# TO load dataset \n",
    "df=pd.read_csv('diabeties.csv')"
   ]
  },
  {
   "cell_type": "code",
   "execution_count": 4,
   "metadata": {},
   "outputs": [
    {
     "data": {
      "text/html": [
       "<div>\n",
       "<style scoped>\n",
       "    .dataframe tbody tr th:only-of-type {\n",
       "        vertical-align: middle;\n",
       "    }\n",
       "\n",
       "    .dataframe tbody tr th {\n",
       "        vertical-align: top;\n",
       "    }\n",
       "\n",
       "    .dataframe thead th {\n",
       "        text-align: right;\n",
       "    }\n",
       "</style>\n",
       "<table border=\"1\" class=\"dataframe\">\n",
       "  <thead>\n",
       "    <tr style=\"text-align: right;\">\n",
       "      <th></th>\n",
       "      <th>pregnant</th>\n",
       "      <th>glocose</th>\n",
       "      <th>bp</th>\n",
       "      <th>skin</th>\n",
       "      <th>insulin</th>\n",
       "      <th>bmi</th>\n",
       "      <th>predigree</th>\n",
       "      <th>age</th>\n",
       "      <th>target</th>\n",
       "    </tr>\n",
       "  </thead>\n",
       "  <tbody>\n",
       "    <tr>\n",
       "      <td>0</td>\n",
       "      <td>6</td>\n",
       "      <td>148</td>\n",
       "      <td>72</td>\n",
       "      <td>35</td>\n",
       "      <td>0</td>\n",
       "      <td>33.6</td>\n",
       "      <td>0.627</td>\n",
       "      <td>50</td>\n",
       "      <td>1</td>\n",
       "    </tr>\n",
       "    <tr>\n",
       "      <td>1</td>\n",
       "      <td>1</td>\n",
       "      <td>85</td>\n",
       "      <td>66</td>\n",
       "      <td>29</td>\n",
       "      <td>0</td>\n",
       "      <td>26.6</td>\n",
       "      <td>0.351</td>\n",
       "      <td>31</td>\n",
       "      <td>0</td>\n",
       "    </tr>\n",
       "    <tr>\n",
       "      <td>2</td>\n",
       "      <td>8</td>\n",
       "      <td>183</td>\n",
       "      <td>64</td>\n",
       "      <td>0</td>\n",
       "      <td>0</td>\n",
       "      <td>23.3</td>\n",
       "      <td>0.672</td>\n",
       "      <td>32</td>\n",
       "      <td>1</td>\n",
       "    </tr>\n",
       "    <tr>\n",
       "      <td>3</td>\n",
       "      <td>1</td>\n",
       "      <td>89</td>\n",
       "      <td>66</td>\n",
       "      <td>23</td>\n",
       "      <td>94</td>\n",
       "      <td>28.1</td>\n",
       "      <td>0.167</td>\n",
       "      <td>21</td>\n",
       "      <td>0</td>\n",
       "    </tr>\n",
       "    <tr>\n",
       "      <td>4</td>\n",
       "      <td>0</td>\n",
       "      <td>137</td>\n",
       "      <td>40</td>\n",
       "      <td>35</td>\n",
       "      <td>168</td>\n",
       "      <td>43.1</td>\n",
       "      <td>2.288</td>\n",
       "      <td>33</td>\n",
       "      <td>1</td>\n",
       "    </tr>\n",
       "  </tbody>\n",
       "</table>\n",
       "</div>"
      ],
      "text/plain": [
       "   pregnant  glocose  bp  skin  insulin   bmi  predigree  age  target\n",
       "0         6      148  72    35        0  33.6      0.627   50       1\n",
       "1         1       85  66    29        0  26.6      0.351   31       0\n",
       "2         8      183  64     0        0  23.3      0.672   32       1\n",
       "3         1       89  66    23       94  28.1      0.167   21       0\n",
       "4         0      137  40    35      168  43.1      2.288   33       1"
      ]
     },
     "execution_count": 4,
     "metadata": {},
     "output_type": "execute_result"
    }
   ],
   "source": [
    "# To show first 5 records\n",
    "df.head()"
   ]
  },
  {
   "cell_type": "code",
   "execution_count": 5,
   "metadata": {},
   "outputs": [
    {
     "data": {
      "text/plain": [
       "(768, 9)"
      ]
     },
     "execution_count": 5,
     "metadata": {},
     "output_type": "execute_result"
    }
   ],
   "source": [
    "# To check number of rows and columns\n",
    "df.shape"
   ]
  },
  {
   "cell_type": "code",
   "execution_count": 6,
   "metadata": {},
   "outputs": [
    {
     "data": {
      "text/plain": [
       "pregnant       int64\n",
       "glocose        int64\n",
       "bp             int64\n",
       "skin           int64\n",
       "insulin        int64\n",
       "bmi          float64\n",
       "predigree    float64\n",
       "age            int64\n",
       "target         int64\n",
       "dtype: object"
      ]
     },
     "execution_count": 6,
     "metadata": {},
     "output_type": "execute_result"
    }
   ],
   "source": [
    "# To check the data types\n",
    "df.dtypes"
   ]
  },
  {
   "cell_type": "code",
   "execution_count": 7,
   "metadata": {},
   "outputs": [
    {
     "data": {
      "text/plain": [
       "pregnant     0\n",
       "glocose      0\n",
       "bp           0\n",
       "skin         0\n",
       "insulin      0\n",
       "bmi          0\n",
       "predigree    0\n",
       "age          0\n",
       "target       0\n",
       "dtype: int64"
      ]
     },
     "execution_count": 7,
     "metadata": {},
     "output_type": "execute_result"
    }
   ],
   "source": [
    "# To check the null value\n",
    "df.isnull().sum()"
   ]
  },
  {
   "cell_type": "markdown",
   "metadata": {},
   "source": [
    "# There are no missing values in the dataset. The dataset had already been cleaned. \n"
   ]
  },
  {
   "cell_type": "code",
   "execution_count": 8,
   "metadata": {},
   "outputs": [
    {
     "data": {
      "image/png": "[encoded data removed]",
      "text/plain": [
       "<Figure size 432x288 with 2 Axes>"
      ]
     },
     "metadata": {
      "needs_background": "light"
     },
     "output_type": "display_data"
    }
   ],
   "source": [
    "# To visualize the null value\n",
    "sns.heatmap(df.isnull())\n",
    "plt.show()"
   ]
  },
  {
   "cell_type": "code",
   "execution_count": 9,
   "metadata": {},
   "outputs": [
    {
     "data": {
      "text/plain": [
       "<bound method DataFrame.info of      pregnant  glocose  bp  skin  insulin   bmi  predigree  age  target\n",
       "0           6      148  72    35        0  33.6      0.627   50       1\n",
       "1           1       85  66    29        0  26.6      0.351   31       0\n",
       "2           8      183  64     0        0  23.3      0.672   32       1\n",
       "3           1       89  66    23       94  28.1      0.167   21       0\n",
       "4           0      137  40    35      168  43.1      2.288   33       1\n",
       "..        ...      ...  ..   ...      ...   ...        ...  ...     ...\n",
       "763        10      101  76    48      180  32.9      0.171   63       0\n",
       "764         2      122  70    27        0  36.8      0.340   27       0\n",
       "765         5      121  72    23      112  26.2      0.245   30       0\n",
       "766         1      126  60     0        0  30.1      0.349   47       1\n",
       "767         1       93  70    31        0  30.4      0.315   23       0\n",
       "\n",
       "[768 rows x 9 columns]>"
      ]
     },
     "execution_count": 9,
     "metadata": {},
     "output_type": "execute_result"
    }
   ],
   "source": [
    "#  the information about data\\\n",
    "df.info"
   ]
  },
  {
   "cell_type": "code",
   "execution_count": 10,
   "metadata": {},
   "outputs": [
    {
     "data": {
      "text/plain": [
       "0    500\n",
       "1    268\n",
       "Name: target, dtype: int64"
      ]
     },
     "execution_count": 10,
     "metadata": {},
     "output_type": "execute_result"
    }
   ],
   "source": [
    "# check data is balance or not\n",
    "df['target'].value_counts()"
   ]
  },
  {
   "cell_type": "code",
   "execution_count": 11,
   "metadata": {},
   "outputs": [],
   "source": [
    "#Separate input and output from datset\n",
    "X=df.drop('target',axis=1)# input features\n",
    "Y=df['target'] # output"
   ]
  },
  {
   "cell_type": "markdown",
   "metadata": {},
   "source": [
    "# We will now split our dataset before we train it. \n",
    "X will contain all the Independent variables while y will have the Dependent variable (Outcome)."
   ]
  },
  {
   "cell_type": "code",
   "execution_count": 12,
   "metadata": {},
   "outputs": [],
   "source": [
    "# train-Test-split\n",
    "from sklearn.model_selection import train_test_split\n",
    "X_train,X_test,Y_train,Y_test=train_test_split(X,Y,test_size=0.3,random_state=1)"
   ]
  },
  {
   "cell_type": "code",
   "execution_count": 13,
   "metadata": {},
   "outputs": [],
   "source": [
    "# First apply scaling on output data before train and data\n",
    "#apply standard scaler for input data training and testing\n",
    "from sklearn.preprocessing import StandardScaler\n",
    "#create object of StandardScaler class\n",
    "ss=StandardScaler()\n",
    "# mean apply standard sclaer for X_train data\n",
    "X_train=ss.fit_transform(X_train)\n",
    "X_test=ss.transform(X_test)\n",
    "# after scaling its becomenp array"
   ]
  },
  {
   "cell_type": "code",
   "execution_count": 14,
   "metadata": {},
   "outputs": [],
   "source": [
    "# create a function\n",
    "def create_model(model):\n",
    "    model.fit(X_train,Y_train) # train the model\n",
    "    Y_pred=model.predict(X_test)# test the model\n",
    "    print(classification_report(Y_test,Y_pred))\n",
    "    print(confusion_matrix(Y_test,Y_pred))\n",
    "    return model"
   ]
  },
  {
   "cell_type": "code",
   "execution_count": 15,
   "metadata": {},
   "outputs": [],
   "source": [
    "from sklearn.metrics import classification_report\n",
    "from sklearn.metrics import confusion_matrix"
   ]
  },
  {
   "cell_type": "markdown",
   "metadata": {},
   "source": [
    "# 1. Using Logistic Regression"
   ]
  },
  {
   "cell_type": "code",
   "execution_count": 16,
   "metadata": {},
   "outputs": [],
   "source": [
    "from sklearn.linear_model import LogisticRegression "
   ]
  },
  {
   "cell_type": "code",
   "execution_count": 17,
   "metadata": {},
   "outputs": [
    {
     "name": "stdout",
     "output_type": "stream",
     "text": [
      "              precision    recall  f1-score   support\n",
      "\n",
      "           0       0.79      0.90      0.84       146\n",
      "           1       0.78      0.58      0.66        85\n",
      "\n",
      "    accuracy                           0.78       231\n",
      "   macro avg       0.78      0.74      0.75       231\n",
      "weighted avg       0.78      0.78      0.78       231\n",
      "\n",
      "[[132  14]\n",
      " [ 36  49]]\n"
     ]
    }
   ],
   "source": [
    "# Create class of Logistic Regression\n",
    "lr=LogisticRegression(random_state=1)\n",
    "lr=create_model(lr)\n"
   ]
  },
  {
   "cell_type": "markdown",
   "metadata": {},
   "source": [
    "# 2.Using decision Tree"
   ]
  },
  {
   "cell_type": "code",
   "execution_count": 18,
   "metadata": {},
   "outputs": [],
   "source": [
    "#apply Decision treeclassifier class\n",
    "# mean given dataset into DecisionTreeclassification algorithm\n",
    "#perform dataset ith the help of desicionTreeClassification\n",
    "#call DecisionTreeClassification class\n",
    "from sklearn.tree import DecisionTreeClassifier"
   ]
  },
  {
   "cell_type": "code",
   "execution_count": 19,
   "metadata": {},
   "outputs": [],
   "source": [
    "##Create the object of decision Tree classifier class\n",
    "dt=DecisionTreeClassifier(random_state=1) # By default use method gini index\n",
    "#means formula : 1- P(yes)^2-Q(no)^2 : find impurities of each input features"
   ]
  },
  {
   "cell_type": "code",
   "execution_count": 20,
   "metadata": {},
   "outputs": [
    {
     "name": "stdout",
     "output_type": "stream",
     "text": [
      "              precision    recall  f1-score   support\n",
      "\n",
      "           0       0.74      0.80      0.77       146\n",
      "           1       0.60      0.51      0.55        85\n",
      "\n",
      "    accuracy                           0.69       231\n",
      "   macro avg       0.67      0.65      0.66       231\n",
      "weighted avg       0.68      0.69      0.69       231\n",
      "\n",
      "[[117  29]\n",
      " [ 42  43]]\n"
     ]
    }
   ],
   "source": [
    "#call function\n",
    "dt=create_model(dt)"
   ]
  },
  {
   "cell_type": "code",
   "execution_count": 21,
   "metadata": {},
   "outputs": [],
   "source": [
    "##But we got less score 0.51 % its not good ,\n",
    "#region behind less score , overfit means\n",
    "#model is overfit so reduced the overfitting situation : -\n",
    "#then we use pruning technique\n",
    "#How to reduced a overfitting situation By using the Pruning technique : -\n",
    "#There are 2 types of pruning technique : -\n",
    "#1. max_depth : inbulit parameter\n",
    "#2. min_samples_leaf : inbuilt parameter"
   ]
  },
  {
   "cell_type": "code",
   "execution_count": 22,
   "metadata": {},
   "outputs": [],
   "source": [
    "#max_depth: # note : max_depth can not more than 8\n",
    "#1. max_depth parameter\n",
    "# create object of DecisionTreeClassifierclass and passing the parameter\n",
    "#max_depth"
   ]
  },
  {
   "cell_type": "code",
   "execution_count": 23,
   "metadata": {},
   "outputs": [],
   "source": [
    "# create the object decisionTreeClassifier and pass the max_depth parameter\n",
    "dt1=DecisionTreeClassifier(random_state=1,max_depth=5) # by default gini index"
   ]
  },
  {
   "cell_type": "code",
   "execution_count": 24,
   "metadata": {},
   "outputs": [
    {
     "name": "stdout",
     "output_type": "stream",
     "text": [
      "              precision    recall  f1-score   support\n",
      "\n",
      "           0       0.80      0.84      0.82       146\n",
      "           1       0.70      0.65      0.67        85\n",
      "\n",
      "    accuracy                           0.77       231\n",
      "   macro avg       0.75      0.74      0.74       231\n",
      "weighted avg       0.76      0.77      0.76       231\n",
      "\n",
      "[[122  24]\n",
      " [ 30  55]]\n"
     ]
    }
   ],
   "source": [
    "# call function\n",
    "dt1=create_model(dt1)"
   ]
  },
  {
   "cell_type": "code",
   "execution_count": 25,
   "metadata": {},
   "outputs": [],
   "source": [
    "# min_samples_leaf\n",
    "#2nd puring technique : min)samples_leaf\n",
    "# create object of DecisionTreeClassifier class\n",
    "dt2=DecisionTreeClassifier(random_state=1,min_samples_leaf=91) # by deafault hini index\n",
    "# min_samples_leaf=50 or more means not leass than 50 can be more than 50"
   ]
  },
  {
   "cell_type": "code",
   "execution_count": 26,
   "metadata": {},
   "outputs": [
    {
     "name": "stdout",
     "output_type": "stream",
     "text": [
      "              precision    recall  f1-score   support\n",
      "\n",
      "           0       0.79      0.83      0.81       146\n",
      "           1       0.68      0.62      0.65        85\n",
      "\n",
      "    accuracy                           0.75       231\n",
      "   macro avg       0.74      0.73      0.73       231\n",
      "weighted avg       0.75      0.75      0.75       231\n",
      "\n",
      "[[121  25]\n",
      " [ 32  53]]\n"
     ]
    }
   ],
   "source": [
    "#call function\n",
    "dt2=create_model(dt2)\n"
   ]
  },
  {
   "cell_type": "markdown",
   "metadata": {},
   "source": [
    "# Tree Tree using Entropy "
   ]
  },
  {
   "cell_type": "code",
   "execution_count": 28,
   "metadata": {},
   "outputs": [],
   "source": [
    "# Create object\n",
    "dte = DecisionTreeClassifier(random_state=1,criterion = 'entropy')\n"
   ]
  },
  {
   "cell_type": "code",
   "execution_count": 30,
   "metadata": {},
   "outputs": [
    {
     "name": "stdout",
     "output_type": "stream",
     "text": [
      "              precision    recall  f1-score   support\n",
      "\n",
      "           0       0.80      0.78      0.79       146\n",
      "           1       0.64      0.66      0.65        85\n",
      "\n",
      "    accuracy                           0.74       231\n",
      "   macro avg       0.72      0.72      0.72       231\n",
      "weighted avg       0.74      0.74      0.74       231\n",
      "\n",
      "[[114  32]\n",
      " [ 29  56]]\n"
     ]
    }
   ],
   "source": [
    "# call function\n",
    "dte=create_model(dte)"
   ]
  },
  {
   "cell_type": "code",
   "execution_count": 31,
   "metadata": {},
   "outputs": [],
   "source": [
    "#Decision Tree max_depth\n",
    "dte1 = DecisionTreeClassifier(random_state=1,criterion='entropy',max_depth=7)\n"
   ]
  },
  {
   "cell_type": "code",
   "execution_count": 32,
   "metadata": {},
   "outputs": [
    {
     "name": "stdout",
     "output_type": "stream",
     "text": [
      "              precision    recall  f1-score   support\n",
      "\n",
      "           0       0.84      0.79      0.82       146\n",
      "           1       0.68      0.74      0.71        85\n",
      "\n",
      "    accuracy                           0.77       231\n",
      "   macro avg       0.76      0.77      0.76       231\n",
      "weighted avg       0.78      0.77      0.78       231\n",
      "\n",
      "[[116  30]\n",
      " [ 22  63]]\n"
     ]
    }
   ],
   "source": [
    "# call function\n",
    "dte1=create_model(dte1)"
   ]
  },
  {
   "cell_type": "code",
   "execution_count": 33,
   "metadata": {},
   "outputs": [],
   "source": [
    "#Decision Tree min_samples_leaf\n",
    "dte2 = DecisionTreeClassifier(random_state=1,criterion='entropy',min_samples_leaf=100)"
   ]
  },
  {
   "cell_type": "code",
   "execution_count": 34,
   "metadata": {},
   "outputs": [
    {
     "name": "stdout",
     "output_type": "stream",
     "text": [
      "              precision    recall  f1-score   support\n",
      "\n",
      "           0       0.82      0.80      0.81       146\n",
      "           1       0.67      0.69      0.68        85\n",
      "\n",
      "    accuracy                           0.76       231\n",
      "   macro avg       0.74      0.75      0.75       231\n",
      "weighted avg       0.76      0.76      0.76       231\n",
      "\n",
      "[[117  29]\n",
      " [ 26  59]]\n"
     ]
    }
   ],
   "source": [
    "# call function\n",
    "dte2 = create_model(dte2)"
   ]
  },
  {
   "cell_type": "markdown",
   "metadata": {},
   "source": [
    "# Using BoostingTechnics"
   ]
  },
  {
   "cell_type": "markdown",
   "metadata": {},
   "source": [
    "# 1.ADA Boosting ( Adaptor Boosting )"
   ]
  },
  {
   "cell_type": "code",
   "execution_count": 35,
   "metadata": {},
   "outputs": [],
   "source": [
    "from sklearn.ensemble import AdaBoostClassifier"
   ]
  },
  {
   "cell_type": "code",
   "execution_count": 36,
   "metadata": {},
   "outputs": [],
   "source": [
    "ada = AdaBoostClassifier(n_estimators=90,random_state=1)"
   ]
  },
  {
   "cell_type": "code",
   "execution_count": 37,
   "metadata": {},
   "outputs": [
    {
     "name": "stdout",
     "output_type": "stream",
     "text": [
      "              precision    recall  f1-score   support\n",
      "\n",
      "           0       0.82      0.88      0.85       146\n",
      "           1       0.77      0.66      0.71        85\n",
      "\n",
      "    accuracy                           0.80       231\n",
      "   macro avg       0.79      0.77      0.78       231\n",
      "weighted avg       0.80      0.80      0.80       231\n",
      "\n",
      "[[129  17]\n",
      " [ 29  56]]\n"
     ]
    }
   ],
   "source": [
    "ada = create_model(ada)"
   ]
  },
  {
   "cell_type": "markdown",
   "metadata": {},
   "source": [
    "# 2.Gradient Boosting"
   ]
  },
  {
   "cell_type": "code",
   "execution_count": 38,
   "metadata": {},
   "outputs": [],
   "source": [
    "from sklearn.ensemble import GradientBoostingClassifier"
   ]
  },
  {
   "cell_type": "code",
   "execution_count": 39,
   "metadata": {},
   "outputs": [],
   "source": [
    "gbc = GradientBoostingClassifier(n_estimators=50,random_state=1)"
   ]
  },
  {
   "cell_type": "code",
   "execution_count": 40,
   "metadata": {},
   "outputs": [
    {
     "name": "stdout",
     "output_type": "stream",
     "text": [
      "              precision    recall  f1-score   support\n",
      "\n",
      "           0       0.82      0.88      0.85       146\n",
      "           1       0.77      0.66      0.71        85\n",
      "\n",
      "    accuracy                           0.80       231\n",
      "   macro avg       0.79      0.77      0.78       231\n",
      "weighted avg       0.80      0.80      0.80       231\n",
      "\n",
      "[[129  17]\n",
      " [ 29  56]]\n"
     ]
    }
   ],
   "source": [
    "gbc = create_model(gbc)"
   ]
  },
  {
   "cell_type": "code",
   "execution_count": 27,
   "metadata": {},
   "outputs": [],
   "source": [
    "#Apply Support vector machine : -\n",
    "#use SVM : support vector machine : - classification algorithm\n",
    "#There are 3 types of SVM (Kernel function) : -\n",
    "#1. Linear kernel function of SVM : means suppose data are linearly\n",
    "#separatable with the help of straight line ,it is known as decision boundary\n",
    "#or hyperplane\n",
    "#call class LinearSVC inbuilt class\n",
    "#SVC : support vector classifier"
   ]
  },
  {
   "cell_type": "code",
   "execution_count": 42,
   "metadata": {},
   "outputs": [],
   "source": [
    "from sklearn.svm import LinearSVC"
   ]
  },
  {
   "cell_type": "code",
   "execution_count": 43,
   "metadata": {},
   "outputs": [],
   "source": [
    "#create a object of LinearSVC class\n",
    "svc=LinearSVC(random_state=1) # hard margin"
   ]
  },
  {
   "cell_type": "code",
   "execution_count": 44,
   "metadata": {},
   "outputs": [
    {
     "name": "stdout",
     "output_type": "stream",
     "text": [
      "              precision    recall  f1-score   support\n",
      "\n",
      "           0       0.79      0.90      0.84       146\n",
      "           1       0.78      0.58      0.66        85\n",
      "\n",
      "    accuracy                           0.78       231\n",
      "   macro avg       0.78      0.74      0.75       231\n",
      "weighted avg       0.78      0.78      0.78       231\n",
      "\n",
      "[[132  14]\n",
      " [ 36  49]]\n"
     ]
    }
   ],
   "source": [
    "# call function\n",
    "svc=create_model(svc)"
   ]
  },
  {
   "cell_type": "markdown",
   "metadata": {},
   "source": [
    "# Conclusion"
   ]
  },
  {
   "cell_type": "markdown",
   "metadata": {},
   "source": [
    "# We have used 11 different methods the Best result we got is in Decision Tree Entropy max_depth .74 i.e. 74%"
   ]
  }
 ],
 "metadata": {
  "kernelspec": {
   "display_name": "Python 3",
   "language": "python",
   "name": "python3"
  },
  "language_info": {
   "codemirror_mode": {
    "name": "ipython",
    "version": 3
   },
   "file_extension": ".py",
   "mimetype": "text/x-python",
   "name": "python",
   "nbconvert_exporter": "python",
   "pygments_lexer": "ipython3",
   "version": "3.7.4"
  }
 },
 "nbformat": 4,
 "nbformat_minor": 2
}
